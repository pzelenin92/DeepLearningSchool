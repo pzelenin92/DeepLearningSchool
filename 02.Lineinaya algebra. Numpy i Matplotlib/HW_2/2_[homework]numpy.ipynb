{
 "nbformat": 4,
 "nbformat_minor": 0,
 "metadata": {
  "colab": {
   "name": "Copy of [homework]numpy.ipynb",
   "provenance": [],
   "collapsed_sections": []
  },
  "kernelspec": {
   "display_name": "Python 3",
   "language": "python",
   "name": "python3"
  },
  "language_info": {
   "codemirror_mode": {
    "name": "ipython",
    "version": 3
   },
   "file_extension": ".py",
   "mimetype": "text/x-python",
   "name": "python",
   "nbconvert_exporter": "python",
   "pygments_lexer": "ipython3",
   "version": "3.7.3"
  }
 },
 "cells": [
  {
   "cell_type": "markdown",
   "metadata": {
    "id": "KxIquH6GK7kt"
   },
   "source": [
    "<p style=\"align: center;\"><img align=center src=\"https://s8.hostingkartinok.com/uploads/images/2018/08/308b49fcfbc619d629fe4604bceb67ac.jpg\" width=500 height=450/></p>\n",
    "\n",
    "\n",
    "<h3 style=\"text-align: center;\"><b>Школа глубокого обучения ФПМИ МФТИ, осень 2021</b></h3>\n",
    "\n",
    "## Домашнее задание: библиотека Numpy и линейная алгебра\n"
   ]
  },
  {
   "cell_type": "code",
   "metadata": {
    "id": "YEJ8DQ4QK7kx"
   },
   "source": [
    "import numpy as np\n",
    "import random\n",
    "import scipy.stats as sps"
   ],
   "execution_count": 2,
   "outputs": []
  },
  {
   "cell_type": "markdown",
   "metadata": {
    "id": "hYXhVX0eK7k2"
   },
   "source": [
    "### Задание 1\n",
    "В первой задаче вам предлагается перемножить две квадратные матрицы двумя способами -- без использования пакета ***numpy*** и с ним."
   ]
  },
  {
   "cell_type": "code",
   "metadata": {
    "id": "zJR8EANzK7k3",
    "colab": {
     "base_uri": "https://localhost:8080/"
    },
    "outputId": "2f85a0d3-be9d-411b-c35f-09590130f3c9"
   },
   "source": [
    "# Для генерации матриц используем фукнцию random -- она используется для генерации случайных объектов \n",
    "# функция sample создает случайную выборку. В качестве аргумента ей передается кортеж (i,j),  \n",
    "# здесь i -- число строк, j -- число столбцов.\n",
    "a = np.random.sample((3, 3))\n",
    "b = np.random.sample((3, 3))\n",
    "\n",
    "# Выведите размерность (ранг) каждой матрицы с помощью функции ndim.\n",
    "# Используйте функцию shape, что она вывела?\n",
    "\n",
    "# ========\n",
    "# Ваш код здесь\n",
    "print(np.ndim(a))\n",
    "print(np.ndim(b))\n",
    "# ========\n",
    "print(a)\n",
    "print(b)"
   ],
   "execution_count": 75,
   "outputs": [
    {
     "name": "stdout",
     "output_type": "stream",
     "text": [
      "2\n",
      "2\n",
      "[[0.97601142 0.10118734 0.77650194]\n",
      " [0.4915006  0.10757469 0.94427876]\n",
      " [0.86254264 0.1159482  0.80875656]]\n",
      "[[7.08578017e-01 8.20702153e-03 5.91544078e-01]\n",
      " [2.81572571e-01 5.03114152e-01 1.64333835e-04]\n",
      " [8.64200610e-01 1.78266263e-01 1.17689317e-01]]\n"
     ]
    }
   ]
  },
  {
   "cell_type": "code",
   "metadata": {
    "id": "bkWCI4TPK7k8"
   },
   "source": [
    "def no_numpy_mult(first, second):\n",
    "    \"\"\"  \n",
    "    a: list of \"size\" lists, each contains \"size\" floats --- первая матрица-аргумент\n",
    "    b: list of \"size\" lists, each contains \"size\" floats --- вторая матрица-аргумент\n",
    "    return c: list of \"size\" lists, each contains \"size\" floats --- матрица, являющаяся результатом умножения матриц a и b\n",
    "    \n",
    "    Функция принимает на вход две матрицы: a и b размерностью size x size\n",
    "    Возвращает матрицу их произведения a * b = c \n",
    "\n",
    "    Реализуйте умножение матриц без использования функций из пакета numpy\n",
    "    \"\"\"\n",
    "\n",
    "    dim = len(first) # узнаем количество строк в матрице, тк она квадратная то это и кол-во столбцов\n",
    "\n",
    "    #просто\n",
    "    # output_matrix = [[0,0,0] for i in range(dim)] # делаем шаблон выходной матрицы\n",
    "\n",
    "    # for i in range(dim):\n",
    "    #     for j in range(dim):\n",
    "    #         output_matrix[i][j] = sum([first[i][k] * second[k][j] for k in range(dim)])\n",
    "    # result = output_matrix\n",
    "\n",
    "    #list comprehension\n",
    "    result = [[sum([first[i][k] * second[k][j] for k in range(dim)]) for j in range(dim)] for i in range(dim)]\n",
    "\n",
    "    return result"
   ],
   "execution_count": 40,
   "outputs": []
  },
  {
   "cell_type": "code",
   "execution_count": 32,
   "outputs": [],
   "source": [
    "matr_1 = [[1,1,1],[1,1,1],[1,1,1]]\n",
    "matr_2 = [[2,2,2],[2,2,2],[2,2,2]]"
   ],
   "metadata": {
    "collapsed": false,
    "pycharm": {
     "name": "#%%\n"
    }
   }
  },
  {
   "cell_type": "code",
   "execution_count": 64,
   "outputs": [
    {
     "data": {
      "text/plain": "[[6, 6, 6], [6, 6, 6], [6, 6, 6]]"
     },
     "execution_count": 64,
     "metadata": {},
     "output_type": "execute_result"
    }
   ],
   "source": [
    "no_numpy_mult(matr_1,matr_2)"
   ],
   "metadata": {
    "collapsed": false,
    "pycharm": {
     "name": "#%%\n"
    }
   }
  },
  {
   "cell_type": "code",
   "metadata": {
    "id": "IIgYD1W5K7lB"
   },
   "source": [
    "def numpy_mult(first, second):\n",
    "    \"\"\"  \n",
    "    a: np.array[size, size]             --- первая матрица-аргумент\n",
    "    b: np.array[size, size] --- вторая матрица-аргумент\n",
    "    return c: np.array[size, size]       --- матрица, являющаяся результатом умножения матриц a и b\n",
    "    \n",
    "    Функция принимает на вход две матрицы: a и b размерностью size x size\n",
    "    Возвращает матрицу их произведения a * b = c \n",
    "\n",
    "    Реализуйте умножение матриц, используя функции из пакета numpy\n",
    "    \"\"\"\n",
    "    #YOUR CODE: please use numpy\n",
    "    # result = #YOUR CODE: create np.array\n",
    "\n",
    "\n",
    "    # result = first @ second\n",
    "    result = first.dot(second)\n",
    "    return result"
   ],
   "execution_count": 59,
   "outputs": []
  },
  {
   "cell_type": "code",
   "execution_count": 60,
   "outputs": [],
   "source": [
    "matr_np_1 = np.array([[1,1,1],[1,1,1],[1,1,1]])\n",
    "matr_np_2 = np.array([[2,2,2],[2,2,2],[2,2,2]])"
   ],
   "metadata": {
    "collapsed": false,
    "pycharm": {
     "name": "#%%\n"
    }
   }
  },
  {
   "cell_type": "code",
   "execution_count": 61,
   "outputs": [
    {
     "data": {
      "text/plain": "array([[6, 6, 6],\n       [6, 6, 6],\n       [6, 6, 6]])"
     },
     "execution_count": 61,
     "metadata": {},
     "output_type": "execute_result"
    }
   ],
   "source": [
    "numpy_mult(matr_np_1,matr_np_2)"
   ],
   "metadata": {
    "collapsed": false,
    "pycharm": {
     "name": "#%%\n"
    }
   }
  },
  {
   "cell_type": "code",
   "metadata": {
    "id": "tktkYzUHK7lE"
   },
   "source": [
    "%%time\n",
    "# засечем время работы функции без NumPy\n",
    "M1 = no_numpy_mult(a, b)"
   ],
   "execution_count": 69,
   "outputs": [
    {
     "name": "stdout",
     "output_type": "stream",
     "text": [
      "CPU times: user 66 µs, sys: 1e+03 ns, total: 67 µs\n",
      "Wall time: 68.9 µs\n"
     ]
    }
   ]
  },
  {
   "cell_type": "code",
   "metadata": {
    "id": "TmD0adgHK7lK"
   },
   "source": [
    "%%time\n",
    "# засечем время работы функции с NumPy\n",
    "M2 = numpy_mult(a, b)"
   ],
   "execution_count": 70,
   "outputs": [
    {
     "name": "stdout",
     "output_type": "stream",
     "text": [
      "CPU times: user 229 µs, sys: 155 µs, total: 384 µs\n",
      "Wall time: 351 µs\n"
     ]
    }
   ]
  },
  {
   "cell_type": "code",
   "execution_count": 71,
   "outputs": [
    {
     "data": {
      "text/plain": "[[0.766931305614613, 0.910220338074041, 0.7991349752071639],\n [0.4500152806552028, 0.5425164689296267, 0.48714370442596705],\n [0.3992196634155344, 0.4892976461737456, 0.15719422141938286]]"
     },
     "execution_count": 71,
     "metadata": {},
     "output_type": "execute_result"
    }
   ],
   "source": [
    "M1"
   ],
   "metadata": {
    "collapsed": false,
    "pycharm": {
     "name": "#%%\n"
    }
   }
  },
  {
   "cell_type": "code",
   "execution_count": 73,
   "outputs": [
    {
     "data": {
      "text/plain": "array([[0.76693131, 0.91022034, 0.79913498],\n       [0.45001528, 0.54251647, 0.4871437 ],\n       [0.39921966, 0.48929765, 0.15719422]])"
     },
     "execution_count": 73,
     "metadata": {},
     "output_type": "execute_result"
    }
   ],
   "source": [
    "M2"
   ],
   "metadata": {
    "collapsed": false,
    "pycharm": {
     "name": "#%%\n"
    }
   }
  },
  {
   "cell_type": "code",
   "execution_count": 72,
   "outputs": [],
   "source": [
    "# проверим корректность\n",
    "assert np.allclose(np.array(M1), M2)"
   ],
   "metadata": {
    "collapsed": false,
    "pycharm": {
     "name": "#%%\n"
    }
   }
  },
  {
   "cell_type": "markdown",
   "metadata": {
    "id": "2itTyTlcaHAu"
   },
   "source": [
    "### Задание 2"
   ]
  },
  {
   "cell_type": "markdown",
   "metadata": {
    "id": "BCemQSq-aEbO"
   },
   "source": [
    "Вам подаются на вход два вектора `a` и `b` в трехмерном пространстве. Заполните их случайными числами. Реализуйте их скалярное произведение с помощью  `NumPy` и без. Засеките время работы, как это показано в заданиях выше."
   ]
  },
  {
   "cell_type": "code",
   "metadata": {
    "id": "lWhr_gPSZ9o_",
    "colab": {
     "base_uri": "https://localhost:8080/"
    },
    "outputId": "78800ae7-d578-4649-c233-0d3d72239185"
   },
   "source": [
    "a = np.random.sample((1, 3))\n",
    "a = list(a)[0]\n",
    "b = np.random.sample((1, 3))\n",
    "b = list(b)[0]\n",
    "print(a, b)"
   ],
   "execution_count": 3,
   "outputs": [
    {
     "name": "stdout",
     "output_type": "stream",
     "text": [
      "[0.02274008 0.64306036 0.47584789] [0.28406416 0.97699836 0.57665366]\n"
     ]
    }
   ]
  },
  {
   "cell_type": "code",
   "metadata": {
    "id": "GjlkcHIWZ_ae"
   },
   "source": [
    "def no_numpy_scalar(v1, v2):\n",
    "    \"\"\"  \n",
    "    a: np.array[, n] --- первая матрица-аргумент длиной n\n",
    "    b: np.array[, n] --- вторая матрица-аргумент длиной n\n",
    "    return c: float  --- результат скалярного произведения векторов a и b\n",
    "\n",
    "    Функция принимает на вход два вектора длиной n\n",
    "    Возвращает число, равное их скалярному произведению a x b = c \n",
    "\n",
    "    Реализуйте скалярное умножение векторов, не используя функции из пакета numpy\n",
    "\n",
    "    \"\"\"\n",
    "    v_length = len(v1)\n",
    "    result = sum([v1[i] * v2[i] for i in range(v_length)])\n",
    "    return result"
   ],
   "execution_count": 9,
   "outputs": []
  },
  {
   "cell_type": "code",
   "execution_count": null,
   "outputs": [],
   "source": [
    "c1 = [1,1,1]"
   ],
   "metadata": {
    "collapsed": false,
    "pycharm": {
     "name": "#%%\n"
    }
   }
  },
  {
   "cell_type": "code",
   "execution_count": null,
   "outputs": [],
   "source": [
    "c2 = [2,2,2]"
   ],
   "metadata": {
    "collapsed": false,
    "pycharm": {
     "name": "#%%\n"
    }
   }
  },
  {
   "cell_type": "code",
   "execution_count": 16,
   "outputs": [
    {
     "data": {
      "text/plain": "6"
     },
     "execution_count": 16,
     "metadata": {},
     "output_type": "execute_result"
    }
   ],
   "source": [
    "no_numpy_scalar(c1,c2)"
   ],
   "metadata": {
    "collapsed": false,
    "pycharm": {
     "name": "#%%\n"
    }
   }
  },
  {
   "cell_type": "code",
   "metadata": {
    "id": "C2M-OAp5Z_6a"
   },
   "source": [
    "def numpy_scalar (v1, v2):\n",
    "    \"\"\"  \n",
    "    a: np.array[, n] --- первая матрица-аргумент\n",
    "    b: np.array[, n] --- вторая матрица-аргумент\n",
    "    return c: float  --- результат скалярного произведения векторов a и b\n",
    "\n",
    "    Функция принимает на вход два вектора длиной n\n",
    "    Возвращает число, равное их скалярному произведению a x b = c \n",
    "\n",
    "    Реализуйте скалярное умножение векторов, используя функции из пакета numpy\n",
    "    \"\"\"\n",
    "\n",
    "    result = v1@v2\n",
    "    return result"
   ],
   "execution_count": 17,
   "outputs": []
  },
  {
   "cell_type": "code",
   "execution_count": 20,
   "outputs": [],
   "source": [
    "d1 = np.array([1,1,1])\n",
    "d2 = np.array([2,2,2])"
   ],
   "metadata": {
    "collapsed": false,
    "pycharm": {
     "name": "#%%\n"
    }
   }
  },
  {
   "cell_type": "code",
   "execution_count": 21,
   "outputs": [
    {
     "data": {
      "text/plain": "6"
     },
     "execution_count": 21,
     "metadata": {},
     "output_type": "execute_result"
    }
   ],
   "source": [
    "numpy_scalar(d1,d2)"
   ],
   "metadata": {
    "collapsed": false,
    "pycharm": {
     "name": "#%%\n"
    }
   }
  },
  {
   "cell_type": "code",
   "execution_count": 24,
   "outputs": [],
   "source": [
    "product_1 = no_numpy_scalar(a,b)\n",
    "product_2 = numpy_scalar(a,b)"
   ],
   "metadata": {
    "collapsed": false,
    "pycharm": {
     "name": "#%%\n"
    }
   }
  },
  {
   "cell_type": "code",
   "execution_count": 25,
   "outputs": [
    {
     "name": "stdout",
     "output_type": "stream",
     "text": [
      "CPU times: user 3 µs, sys: 1e+03 ns, total: 4 µs\n",
      "Wall time: 6.2 µs\n"
     ]
    },
    {
     "data": {
      "text/plain": "0.9091279777259783"
     },
     "execution_count": 25,
     "metadata": {},
     "output_type": "execute_result"
    }
   ],
   "source": [
    "%time product_1"
   ],
   "metadata": {
    "collapsed": false,
    "pycharm": {
     "name": "#%%\n"
    }
   }
  },
  {
   "cell_type": "code",
   "execution_count": 27,
   "outputs": [
    {
     "name": "stdout",
     "output_type": "stream",
     "text": [
      "CPU times: user 2 µs, sys: 1e+03 ns, total: 3 µs\n",
      "Wall time: 3.81 µs\n"
     ]
    },
    {
     "data": {
      "text/plain": "0.9091279777259783"
     },
     "execution_count": 27,
     "metadata": {},
     "output_type": "execute_result"
    }
   ],
   "source": [
    "%time product_2"
   ],
   "metadata": {
    "collapsed": false,
    "pycharm": {
     "name": "#%%\n"
    }
   }
  },
  {
   "cell_type": "code",
   "metadata": {
    "id": "BOQfYf-2aCQJ",
    "scrolled": true
   },
   "source": [
    "# проверим корректность:\n",
    "assert np.allclose(product_1, product_2)"
   ],
   "execution_count": 28,
   "outputs": []
  },
  {
   "cell_type": "markdown",
   "metadata": {
    "id": "NHaHu6q1K7mH"
   },
   "source": [
    "Почему методы ***numpy*** оказываются эффективнее? Что вы можете сказать о скорости вычислений в NumPy?"
   ]
  },
  {
   "cell_type": "markdown",
   "metadata": {
    "id": "PqsTAb1M7TTQ"
   },
   "source": [
    "------------------"
   ]
  },
  {
   "cell_type": "markdown",
   "metadata": {
    "id": "_A3p2s4eK7mI"
   },
   "source": [
    "**Ответ:** Скорость вычислений вектоных и матричных операций в NumPy сильно превосходит скорость вычислений без него, по большей части потому, что функции numpy работаю с массивами данных одного типа (числовыми), это позволяет реализовать встроенные функции numpy на C/C++, что, конечно, делает numpy быстрее (функции, которые вызывает Numpy для работы с числовыми данными, сильно оптимизированы именно под эти задачи, а сам Python просто гоняет интерпретатор по циклу в таких операциях, что является чуть ли не самым большим замедлением в работе интерпретатора)."
   ]
  },
  {
   "cell_type": "markdown",
   "metadata": {
    "id": "mJXeUuznK7lm"
   },
   "source": [
    "### Задание 3\n",
    "Напишите функцию, которая находим сумму четных диагональныех элементов квадратной матрицы. Если таких элементов нет, то вывести `0`. Используйте библиотеку Numpy"
   ]
  },
  {
   "cell_type": "code",
   "metadata": {
    "id": "qYNiKbK47TTS"
   },
   "source": [
    "def diag_2k(a):\n",
    "    \"\"\"  \n",
    "    a: np.array[m, m] --- первая матрица-аргумент\n",
    "    return c: float   --- сумма элементов массива а, принадлежащих диагонали и являющимися четными\n",
    "\n",
    "    Функция принимает на вход квадратную матрицу размерностью m x m и возвращает число,\n",
    "    равное сумме четных диагональных элементов этой квадратной матрицы\n",
    "\n",
    "    В реализации этой функции необходимо использовать функционал пакета numpy\n",
    "\n",
    "    \"\"\"\n",
    "    diagonal = np.diag(a)\n",
    "    even_diag_numb = diagonal[diagonal % 2 == 0]\n",
    "    result = sum(even_diag_numb)\n",
    "    return result"
   ],
   "execution_count": 43,
   "outputs": []
  },
  {
   "cell_type": "code",
   "metadata": {
    "id": "BdInn8_j7TTU"
   },
   "source": [
    "# зададим некоторую квадратную матрицу\n",
    "a = np.random.randint(1, 10, size=(5, 5))\n",
    "a"
   ],
   "execution_count": 44,
   "outputs": [
    {
     "data": {
      "text/plain": "array([[2, 6, 6, 1, 8],\n       [4, 1, 1, 9, 7],\n       [6, 9, 2, 6, 7],\n       [9, 2, 7, 5, 9],\n       [8, 6, 4, 3, 5]])"
     },
     "execution_count": 44,
     "metadata": {},
     "output_type": "execute_result"
    }
   ]
  },
  {
   "cell_type": "code",
   "metadata": {
    "id": "ZR97Nt9N7TTW"
   },
   "source": [
    "%%time\n",
    "# засечем время работы функции с NumPy\n",
    "diag_2k(a)"
   ],
   "execution_count": 45,
   "outputs": [
    {
     "name": "stdout",
     "output_type": "stream",
     "text": [
      "CPU times: user 82 µs, sys: 5 µs, total: 87 µs\n",
      "Wall time: 102 µs\n"
     ]
    },
    {
     "data": {
      "text/plain": "4"
     },
     "execution_count": 45,
     "metadata": {},
     "output_type": "execute_result"
    }
   ]
  },
  {
   "cell_type": "markdown",
   "metadata": {
    "id": "cdcRkFzQ7TTY"
   },
   "source": [
    "### Задание 4\n",
    "​\n",
    "На вход дан двумерный массив $X$. Напишите функцию, которая для каждой строчки $(x = (x_1, x_2, \\ldots, x_n)$ массива $X$ строит строчку $s = (s_1, s_2, \\ldots, s_n)$,  где $s_k=x_1+...+x_k$, а затем выдаёт массив из построенных строчек. Используйте библиотеку <code>numpy</code> (вам поможет функция <code>cumsum</code>). Выходом функции должен быть двумерный <code>numpy</code>-массив той же формы, что и $X$.\n",
    "​ "
   ]
  },
  {
   "cell_type": "code",
   "metadata": {
    "id": "REgL39ksK7lr"
   },
   "source": [
    "def cumsum(A):\n",
    "    \"\"\"  \n",
    "    A: np.array[num_row, num_column]        --- матрица-аргумент\n",
    "    return S: np.array[num_row, num_column] --- выходная матрица кумулятивных сумм\n",
    "\n",
    "    Функция принимает на вход матрицу A размерностью n x m и возвращает \n",
    "    матрицу с той же размерностью n x m, i-ая строчка которой есть последовательность \n",
    "    кумулятивных сумм элементов i-ой строки матрицы A\n",
    "\n",
    "    В реализации этой функции необходимо использовать функционал пакета numpy\n",
    "\n",
    "    \"\"\"\n",
    "\n",
    "    result = np.cumsum(A,axis=1)\n",
    "    return result"
   ],
   "execution_count": 12,
   "outputs": []
  },
  {
   "cell_type": "code",
   "metadata": {
    "id": "HcVN8MagK7lw"
   },
   "source": [
    "# зададим некоторую последовательность и проверим ее на вашей функции. \n",
    "A = sps.uniform.rvs(size=10**3) \n",
    "\n",
    "%time S2 = cumsum(A)"
   ],
   "execution_count": 13,
   "outputs": [
    {
     "ename": "AxisError",
     "evalue": "axis 1 is out of bounds for array of dimension 1",
     "output_type": "error",
     "traceback": [
      "\u001B[0;31m---------------------------------------------------------------------------\u001B[0m",
      "\u001B[0;31mAxisError\u001B[0m                                 Traceback (most recent call last)",
      "File \u001B[0;32m<timed exec>:1\u001B[0m, in \u001B[0;36m<module>\u001B[0;34m\u001B[0m\n",
      "Input \u001B[0;32mIn [12]\u001B[0m, in \u001B[0;36mcumsum\u001B[0;34m(A)\u001B[0m\n\u001B[1;32m      1\u001B[0m \u001B[38;5;28;01mdef\u001B[39;00m \u001B[38;5;21mcumsum\u001B[39m(A):\n\u001B[1;32m      2\u001B[0m     \u001B[38;5;124;03m\"\"\"  \u001B[39;00m\n\u001B[1;32m      3\u001B[0m \u001B[38;5;124;03m    A: np.array[num_row, num_column]        --- матрица-аргумент\u001B[39;00m\n\u001B[1;32m      4\u001B[0m \u001B[38;5;124;03m    return S: np.array[num_row, num_column] --- выходная матрица кумулятивных сумм\u001B[39;00m\n\u001B[0;32m   (...)\u001B[0m\n\u001B[1;32m     11\u001B[0m \n\u001B[1;32m     12\u001B[0m \u001B[38;5;124;03m    \"\"\"\u001B[39;00m\n\u001B[0;32m---> 14\u001B[0m     result \u001B[38;5;241m=\u001B[39m \u001B[43mnp\u001B[49m\u001B[38;5;241;43m.\u001B[39;49m\u001B[43mcumsum\u001B[49m\u001B[43m(\u001B[49m\u001B[43mA\u001B[49m\u001B[43m,\u001B[49m\u001B[43maxis\u001B[49m\u001B[38;5;241;43m=\u001B[39;49m\u001B[38;5;241;43m1\u001B[39;49m\u001B[43m)\u001B[49m\n\u001B[1;32m     15\u001B[0m     \u001B[38;5;28;01mreturn\u001B[39;00m result\n",
      "File \u001B[0;32m<__array_function__ internals>:180\u001B[0m, in \u001B[0;36mcumsum\u001B[0;34m(*args, **kwargs)\u001B[0m\n",
      "File \u001B[0;32m~/opt/anaconda3/envs/JupyterDls/lib/python3.10/site-packages/numpy/core/fromnumeric.py:2569\u001B[0m, in \u001B[0;36mcumsum\u001B[0;34m(a, axis, dtype, out)\u001B[0m\n\u001B[1;32m   2495\u001B[0m \u001B[38;5;129m@array_function_dispatch\u001B[39m(_cumsum_dispatcher)\n\u001B[1;32m   2496\u001B[0m \u001B[38;5;28;01mdef\u001B[39;00m \u001B[38;5;21mcumsum\u001B[39m(a, axis\u001B[38;5;241m=\u001B[39m\u001B[38;5;28;01mNone\u001B[39;00m, dtype\u001B[38;5;241m=\u001B[39m\u001B[38;5;28;01mNone\u001B[39;00m, out\u001B[38;5;241m=\u001B[39m\u001B[38;5;28;01mNone\u001B[39;00m):\n\u001B[1;32m   2497\u001B[0m     \u001B[38;5;124;03m\"\"\"\u001B[39;00m\n\u001B[1;32m   2498\u001B[0m \u001B[38;5;124;03m    Return the cumulative sum of the elements along a given axis.\u001B[39;00m\n\u001B[1;32m   2499\u001B[0m \n\u001B[0;32m   (...)\u001B[0m\n\u001B[1;32m   2567\u001B[0m \n\u001B[1;32m   2568\u001B[0m \u001B[38;5;124;03m    \"\"\"\u001B[39;00m\n\u001B[0;32m-> 2569\u001B[0m     \u001B[38;5;28;01mreturn\u001B[39;00m \u001B[43m_wrapfunc\u001B[49m\u001B[43m(\u001B[49m\u001B[43ma\u001B[49m\u001B[43m,\u001B[49m\u001B[43m \u001B[49m\u001B[38;5;124;43m'\u001B[39;49m\u001B[38;5;124;43mcumsum\u001B[39;49m\u001B[38;5;124;43m'\u001B[39;49m\u001B[43m,\u001B[49m\u001B[43m \u001B[49m\u001B[43maxis\u001B[49m\u001B[38;5;241;43m=\u001B[39;49m\u001B[43maxis\u001B[49m\u001B[43m,\u001B[49m\u001B[43m \u001B[49m\u001B[43mdtype\u001B[49m\u001B[38;5;241;43m=\u001B[39;49m\u001B[43mdtype\u001B[49m\u001B[43m,\u001B[49m\u001B[43m \u001B[49m\u001B[43mout\u001B[49m\u001B[38;5;241;43m=\u001B[39;49m\u001B[43mout\u001B[49m\u001B[43m)\u001B[49m\n",
      "File \u001B[0;32m~/opt/anaconda3/envs/JupyterDls/lib/python3.10/site-packages/numpy/core/fromnumeric.py:57\u001B[0m, in \u001B[0;36m_wrapfunc\u001B[0;34m(obj, method, *args, **kwds)\u001B[0m\n\u001B[1;32m     54\u001B[0m     \u001B[38;5;28;01mreturn\u001B[39;00m _wrapit(obj, method, \u001B[38;5;241m*\u001B[39margs, \u001B[38;5;241m*\u001B[39m\u001B[38;5;241m*\u001B[39mkwds)\n\u001B[1;32m     56\u001B[0m \u001B[38;5;28;01mtry\u001B[39;00m:\n\u001B[0;32m---> 57\u001B[0m     \u001B[38;5;28;01mreturn\u001B[39;00m \u001B[43mbound\u001B[49m\u001B[43m(\u001B[49m\u001B[38;5;241;43m*\u001B[39;49m\u001B[43margs\u001B[49m\u001B[43m,\u001B[49m\u001B[43m \u001B[49m\u001B[38;5;241;43m*\u001B[39;49m\u001B[38;5;241;43m*\u001B[39;49m\u001B[43mkwds\u001B[49m\u001B[43m)\u001B[49m\n\u001B[1;32m     58\u001B[0m \u001B[38;5;28;01mexcept\u001B[39;00m \u001B[38;5;167;01mTypeError\u001B[39;00m:\n\u001B[1;32m     59\u001B[0m     \u001B[38;5;66;03m# A TypeError occurs if the object does have such a method in its\u001B[39;00m\n\u001B[1;32m     60\u001B[0m     \u001B[38;5;66;03m# class, but its signature is not identical to that of NumPy's. This\u001B[39;00m\n\u001B[0;32m   (...)\u001B[0m\n\u001B[1;32m     64\u001B[0m     \u001B[38;5;66;03m# Call _wrapit from within the except clause to ensure a potential\u001B[39;00m\n\u001B[1;32m     65\u001B[0m     \u001B[38;5;66;03m# exception has a traceback chain.\u001B[39;00m\n\u001B[1;32m     66\u001B[0m     \u001B[38;5;28;01mreturn\u001B[39;00m _wrapit(obj, method, \u001B[38;5;241m*\u001B[39margs, \u001B[38;5;241m*\u001B[39m\u001B[38;5;241m*\u001B[39mkwds)\n",
      "\u001B[0;31mAxisError\u001B[0m: axis 1 is out of bounds for array of dimension 1"
     ]
    }
   ]
  },
  {
   "cell_type": "code",
   "execution_count": 10,
   "outputs": [],
   "source": [
    "a = np.array([[1,2,3], [4,5,6], [7,8,9]])"
   ],
   "metadata": {
    "collapsed": false,
    "pycharm": {
     "name": "#%%\n"
    }
   }
  },
  {
   "cell_type": "code",
   "execution_count": 11,
   "outputs": [
    {
     "data": {
      "text/plain": "array([[ 1,  3,  6],\n       [ 4,  9, 15],\n       [ 7, 15, 24]])"
     },
     "execution_count": 11,
     "metadata": {},
     "output_type": "execute_result"
    }
   ],
   "source": [
    "np.cumsum(a,axis=1)"
   ],
   "metadata": {
    "collapsed": false,
    "pycharm": {
     "name": "#%%\n"
    }
   }
  },
  {
   "cell_type": "code",
   "execution_count": 14,
   "outputs": [
    {
     "data": {
      "text/plain": "array([[ 1,  3,  6],\n       [ 4,  9, 15],\n       [ 7, 15, 24]])"
     },
     "execution_count": 14,
     "metadata": {},
     "output_type": "execute_result"
    }
   ],
   "source": [
    "cumsum(a)"
   ],
   "metadata": {
    "collapsed": false,
    "pycharm": {
     "name": "#%%\n"
    }
   }
  },
  {
   "cell_type": "markdown",
   "metadata": {
    "id": "teVCPWZmK7l5"
   },
   "source": [
    "### Задание 5\n",
    "\n",
    "​\n",
    "Задан двумерный массив $X$. Для каждой строчки массива X необходимо сделать следующее преобразование.\n",
    "\n",
    "Пусть дана строчка x. Необходимо построить новый массив, где все элементы с нечетными индексами требуется заменить на число a (значение по умолчанию a=1). Все элементы с четными индексами нужно возвести в куб. Затем записать элементы в обратном порядке относительно их позиций. В конце требуется слить массив x с преобразованным x и вывести.\n",
    "\n",
    "Напишите функцию, которая выполняет данное преобразование для каждой строчки двумерного массива X. Массив X при этом должен остаться без изменений.\n",
    "\n",
    "Используйте библиотеку numpy.\n",
    "\n",
    "Пример:\n",
    "$X = [[100,200,300,400,500]]$ -> $[[100,a,300,a,500]]$ -> $[[500^3,a,300^3,a,100^3]]$ -> склеиваем -> $[[100,200,300,400,500,500^3,a,300^3,a,100^3]]$\n",
    "\n",
    "​"
   ]
  },
  {
   "cell_type": "code",
   "metadata": {
    "id": "0hmcvfDVK7l-"
   },
   "source": [
    "from copy import copy\n",
    "def np_transformation(X, a=1):\n",
    "    \"\"\"  \n",
    "    X: np.array[num_row, num_column]          --- матрица-аргумент\n",
    "    a: float                                  --- значение для преобразования нечетных элементов строк в X\n",
    "    return S: np.array[num_row, num_column*2] --- матрица, где строки являются \n",
    "    сконкатенированными строками изначальной матрицы X со строками, являющимися их преобразованиями\n",
    "\n",
    "    Функция принимает на вход матрицу X размерностью n x m, число a и \n",
    "    возвращает  матрицу с размерностью n x m*2, i-ая строчка которой является склеенной\n",
    "    i-ой строкой X с ее преобразованием ее строки transformation(X[i]), записанном в обратном порядке, \n",
    "    где преобразование для числа k определено как:\n",
    "    transformation(k) = a if ind(k) % 2 == 0 else k**3\n",
    "\n",
    "    В реализации этой функции необходимо использовать функционал пакета numpy\n",
    "\n",
    "    \"\"\"\n",
    "    matr_copy=X.copy()\n",
    "    matr_copy_pow3=matr_copy**3\n",
    "    matr_copy_pow3[::,1::2]=a\n",
    "    result = np.hstack((matr_copy,matr_copy_pow3[::,::-1]))\n",
    "    return result\n"
   ],
   "execution_count": 151,
   "outputs": []
  },
  {
   "cell_type": "code",
   "metadata": {
    "id": "r2-JLMhxK7mE",
    "scrolled": true
   },
   "source": [
    "X = np.array([[i for i in range(1, 10, 2)]])\n",
    "%time S2 = np_transformation(X, 5)"
   ],
   "execution_count": 136,
   "outputs": [
    {
     "name": "stdout",
     "output_type": "stream",
     "text": [
      "CPU times: user 143 µs, sys: 247 µs, total: 390 µs\n",
      "Wall time: 313 µs\n"
     ]
    }
   ]
  },
  {
   "cell_type": "code",
   "execution_count": 140,
   "outputs": [],
   "source": [
    "tm1 = np.array([[1,2,3,4,5],[1,2,3,4,5]])"
   ],
   "metadata": {
    "collapsed": false,
    "pycharm": {
     "name": "#%%\n"
    }
   }
  },
  {
   "cell_type": "code",
   "execution_count": 152,
   "outputs": [
    {
     "data": {
      "text/plain": "array([[  1,   2,   3,   4,   5, 125,   5,  27,   5,   1],\n       [  1,   2,   3,   4,   5, 125,   5,  27,   5,   1]])"
     },
     "execution_count": 152,
     "metadata": {},
     "output_type": "execute_result"
    }
   ],
   "source": [
    "np_transformation(tm1, 5)"
   ],
   "metadata": {
    "collapsed": false,
    "pycharm": {
     "name": "#%%\n"
    }
   }
  },
  {
   "cell_type": "markdown",
   "metadata": {
    "id": "qa521fce7TTk"
   },
   "source": [
    "### Задание 6\n",
    "Написать функцию для кодирование массива (Run-length encoding). Все подряд идущие повторения элементов функция сжимает в один элемент и считает количество повторений этого элемента. Функция возвращает кортеж из двух векторов одинаковой длины. Первый содержит элементы, а второй — сколько раз их нужно повторить. \n",
    "\n",
    "Пример: encode(np.array([1, 2, 2, 3, 3, 1, 1, 5, 5, 2, 3, 3])) = (np.array[1, 2, 3, 1, 5, 2, 3]), np.array[1, 2, 2, 2, 2, 1, 2])"
   ]
  },
  {
   "cell_type": "code",
   "metadata": {
    "id": "4wD7OSVv7TTl"
   },
   "source": [
    "def np_encode(a):\n",
    "    \"\"\"  \n",
    "    a: np.array[, n] --- вектор-аргумент длиной n\n",
    "    return (elems, repetitions): (np.array, np.array) --- выходной кортеж из вектора \n",
    "    элементов и вектора их количеств в подряд идущих повторениях\n",
    "\n",
    "    Функция принимает на вход вектор a длиной n, добавляет в вектор elem сжатые \n",
    "    в один элемент подряд идущие повторения элементов входного вектора a, в вектор \n",
    "    repetitions добавляет длины последовательностей подряд идущих повторений. \n",
    "    Затем функция возвращает кортеж векторов (elems, repetitions).\n",
    "\n",
    "    В реализации этой функции необходимо использовать функционал пакета numpy\n",
    "\n",
    "    \"\"\"\n",
    "    Anew=np.array(list(a[-1:])+list(a[:-1])) # создаем новый массив семещенный на один элемент\n",
    "    elts = a[Anew != a] #по маске выводим элементы те что тру то есть не равны поэлементно - значит найдем первые элементы в массиве\n",
    "    nonzero = np.nonzero(Anew != a)[0] # найдем индексы первых элементов\n",
    "    repeats = np.diff(np.append(nonzero,a.size)) # разница между i+1 - i индексами покажет сколько повторяющихся цифр между этими индексами, то есть между индексом каждой новой цифроф новой группы повторяющихся цифр\n",
    "\n",
    "    return (elts,repeats)"
   ],
   "execution_count": 388,
   "outputs": []
  },
  {
   "cell_type": "code",
   "execution_count": 374,
   "outputs": [],
   "source": [
    "def np1_encode(a):\n",
    "    elts = np.array([],dtype='int16')\n",
    "    reps = np.array([],dtype='int16')\n",
    "    for key, group in itertools.groupby(a):\n",
    "\n",
    "        li = list(group)\n",
    "        elts = np.append(elts,key)\n",
    "        reps = np.append(reps,len(li))\n",
    "\n",
    "        # print('key {} has len {}: {}'.format(key, len(li), li))\n",
    "    return (elts,reps)"
   ],
   "metadata": {
    "collapsed": false,
    "pycharm": {
     "name": "#%%\n"
    }
   }
  },
  {
   "cell_type": "code",
   "metadata": {
    "id": "P7YxojET7TTn"
   },
   "source": [
    "X = np.array([1, 2, 2, 3, 3, 1, 1, 5, 5, 2, 3, 3])\n",
    "\n",
    "%time x, num = np_encode(X)"
   ],
   "execution_count": 350,
   "outputs": [
    {
     "name": "stdout",
     "output_type": "stream",
     "text": [
      "CPU times: user 76 µs, sys: 19 µs, total: 95 µs\n",
      "Wall time: 89.9 µs\n"
     ]
    }
   ]
  },
  {
   "cell_type": "code",
   "execution_count": 340,
   "outputs": [],
   "source": [
    "X = np.array([1, 2, 2, 3, 3, 1, 1, 5, 5, 2, 3, 3])"
   ],
   "metadata": {
    "collapsed": false,
    "pycharm": {
     "name": "#%%\n"
    }
   }
  },
  {
   "cell_type": "code",
   "execution_count": 389,
   "outputs": [
    {
     "data": {
      "text/plain": "(array([1, 2, 3, 1, 5, 2, 3]), array([1, 2, 2, 2, 2, 1, 2]))"
     },
     "execution_count": 389,
     "metadata": {},
     "output_type": "execute_result"
    }
   ],
   "source": [
    "np_encode(X)"
   ],
   "metadata": {
    "collapsed": false,
    "pycharm": {
     "name": "#%%\n"
    }
   }
  },
  {
   "cell_type": "code",
   "execution_count": 300,
   "outputs": [],
   "source": [
    "import itertools"
   ],
   "metadata": {
    "collapsed": false,
    "pycharm": {
     "name": "#%%\n"
    }
   }
  },
  {
   "cell_type": "code",
   "execution_count": 372,
   "outputs": [
    {
     "name": "stdout",
     "output_type": "stream",
     "text": [
      "key 1 has len 1: [1]\n",
      "key 2 has len 2: [2, 2]\n",
      "key 3 has len 2: [3, 3]\n",
      "key 1 has len 2: [1, 1]\n",
      "key 5 has len 2: [5, 5]\n",
      "key 2 has len 1: [2]\n",
      "key 3 has len 2: [3, 3]\n",
      "[1 2 3 1 5 2 3] [1 2 2 2 2 1 2]\n"
     ]
    }
   ],
   "source": [
    "elts = np.array([],dtype='int16')\n",
    "reps = np.array([],dtype='int16')\n",
    "for key, group in itertools.groupby(X):\n",
    "\n",
    "    li = list(group)\n",
    "    elts = np.append(elts,key)\n",
    "    reps = np.append(reps,len(li))\n",
    "\n",
    "    print('key {} has len {}: {}'.format(key, len(li), li))\n",
    "print(elts,reps)"
   ],
   "metadata": {
    "collapsed": false,
    "pycharm": {
     "name": "#%%\n"
    }
   }
  },
  {
   "cell_type": "code",
   "execution_count": 371,
   "outputs": [
    {
     "data": {
      "text/plain": "numpy.ndarray"
     },
     "execution_count": 371,
     "metadata": {},
     "output_type": "execute_result"
    }
   ],
   "source": [
    "type(elts)"
   ],
   "metadata": {
    "collapsed": false,
    "pycharm": {
     "name": "#%%\n"
    }
   }
  },
  {
   "cell_type": "code",
   "execution_count": 352,
   "outputs": [
    {
     "data": {
      "text/plain": "[(1, [1]),\n (2, [2, 2]),\n (3, [3, 3]),\n (1, [1, 1]),\n (5, [5, 5]),\n (2, [2]),\n (3, [3, 3])]"
     },
     "execution_count": 352,
     "metadata": {},
     "output_type": "execute_result"
    }
   ],
   "source": [
    "[(x, list(y)) for x, y in itertools.groupby(X)]"
   ],
   "metadata": {
    "collapsed": false,
    "pycharm": {
     "name": "#%%\n"
    }
   }
  },
  {
   "cell_type": "code",
   "execution_count": 376,
   "outputs": [
    {
     "data": {
      "text/plain": "array([ True, False,  True, False,  True, False,  True, False,  True,\n        True, False])"
     },
     "execution_count": 376,
     "metadata": {},
     "output_type": "execute_result"
    }
   ],
   "source": [
    "X[1:] != X[:-1]"
   ],
   "metadata": {
    "collapsed": false,
    "pycharm": {
     "name": "#%%\n"
    }
   }
  },
  {
   "cell_type": "code",
   "execution_count": 378,
   "outputs": [
    {
     "data": {
      "text/plain": "array([1, 2, 2, 3, 3, 1, 1, 5, 5, 2, 3])"
     },
     "execution_count": 378,
     "metadata": {},
     "output_type": "execute_result"
    }
   ],
   "source": [
    "X[:-1]"
   ],
   "metadata": {
    "collapsed": false,
    "pycharm": {
     "name": "#%%\n"
    }
   }
  },
  {
   "cell_type": "code",
   "execution_count": 302,
   "outputs": [
    {
     "data": {
      "text/plain": "array([1, 2, 2, 3, 3, 1, 1, 5, 5, 2, 3, 3])"
     },
     "execution_count": 302,
     "metadata": {},
     "output_type": "execute_result"
    }
   ],
   "source": [
    "X"
   ],
   "metadata": {
    "collapsed": false,
    "pycharm": {
     "name": "#%%\n"
    }
   }
  },
  {
   "cell_type": "code",
   "execution_count": 306,
   "outputs": [
    {
     "data": {
      "text/plain": "array([3])"
     },
     "execution_count": 306,
     "metadata": {},
     "output_type": "execute_result"
    }
   ],
   "source": [
    "X[-1:]"
   ],
   "metadata": {
    "collapsed": false,
    "pycharm": {
     "name": "#%%\n"
    }
   }
  },
  {
   "cell_type": "code",
   "execution_count": 307,
   "outputs": [
    {
     "data": {
      "text/plain": "array([1, 2, 2, 3, 3, 1, 1, 5, 5, 2, 3])"
     },
     "execution_count": 307,
     "metadata": {},
     "output_type": "execute_result"
    }
   ],
   "source": [
    "X[:-1]"
   ],
   "metadata": {
    "collapsed": false,
    "pycharm": {
     "name": "#%%\n"
    }
   }
  },
  {
   "cell_type": "code",
   "execution_count": 359,
   "outputs": [
    {
     "data": {
      "text/plain": "array([3, 1, 2, 2, 3, 3, 1, 1, 5, 5, 2, 3])"
     },
     "execution_count": 359,
     "metadata": {},
     "output_type": "execute_result"
    }
   ],
   "source": [
    "Xnew=np.array(list(X[-1:])+list(X[:-1]))\n",
    "Xnew"
   ],
   "metadata": {
    "collapsed": false,
    "pycharm": {
     "name": "#%%\n"
    }
   }
  },
  {
   "cell_type": "code",
   "execution_count": 360,
   "outputs": [
    {
     "data": {
      "text/plain": "array([1, 2, 2, 3, 3, 1, 1, 5, 5, 2, 3, 3])"
     },
     "execution_count": 360,
     "metadata": {},
     "output_type": "execute_result"
    }
   ],
   "source": [
    "X"
   ],
   "metadata": {
    "collapsed": false,
    "pycharm": {
     "name": "#%%\n"
    }
   }
  },
  {
   "cell_type": "code",
   "execution_count": 361,
   "outputs": [
    {
     "data": {
      "text/plain": "array([ True,  True, False,  True, False,  True, False,  True, False,\n        True,  True, False])"
     },
     "execution_count": 361,
     "metadata": {},
     "output_type": "execute_result"
    }
   ],
   "source": [
    "Xnew != X"
   ],
   "metadata": {
    "collapsed": false,
    "pycharm": {
     "name": "#%%\n"
    }
   }
  },
  {
   "cell_type": "code",
   "execution_count": 362,
   "outputs": [
    {
     "data": {
      "text/plain": "array([1, 2, 3, 1, 5, 2, 3])"
     },
     "execution_count": 362,
     "metadata": {},
     "output_type": "execute_result"
    }
   ],
   "source": [
    "elts = X[Xnew != X]\n",
    "elts"
   ],
   "metadata": {
    "collapsed": false,
    "pycharm": {
     "name": "#%%\n"
    }
   }
  },
  {
   "cell_type": "code",
   "execution_count": 386,
   "outputs": [
    {
     "data": {
      "text/plain": "array([ 0,  1,  3,  5,  7,  9, 10])"
     },
     "execution_count": 386,
     "metadata": {},
     "output_type": "execute_result"
    }
   ],
   "source": [
    "nonzero = np.nonzero(Xnew != X)[0]\n",
    "nonzero"
   ],
   "metadata": {
    "collapsed": false,
    "pycharm": {
     "name": "#%%\n"
    }
   }
  },
  {
   "cell_type": "code",
   "execution_count": 391,
   "outputs": [
    {
     "data": {
      "text/plain": "array([1, 2, 2, 3, 3, 1, 1, 5, 5, 2, 3, 3])"
     },
     "execution_count": 391,
     "metadata": {},
     "output_type": "execute_result"
    }
   ],
   "source": [
    "X"
   ],
   "metadata": {
    "collapsed": false,
    "pycharm": {
     "name": "#%%\n"
    }
   }
  },
  {
   "cell_type": "code",
   "execution_count": 390,
   "outputs": [
    {
     "data": {
      "text/plain": "array([ 0,  1,  3,  5,  7,  9, 10, 12])"
     },
     "execution_count": 390,
     "metadata": {},
     "output_type": "execute_result"
    }
   ],
   "source": [
    "np.append(nonzero,X.size)"
   ],
   "metadata": {
    "collapsed": false,
    "pycharm": {
     "name": "#%%\n"
    }
   }
  },
  {
   "cell_type": "code",
   "execution_count": 387,
   "outputs": [
    {
     "data": {
      "text/plain": "array([1, 2, 2, 2, 2, 1, 2])"
     },
     "execution_count": 387,
     "metadata": {},
     "output_type": "execute_result"
    }
   ],
   "source": [
    "np.diff(np.append(nonzero,X.size))"
   ],
   "metadata": {
    "collapsed": false,
    "pycharm": {
     "name": "#%%\n"
    }
   }
  },
  {
   "cell_type": "code",
   "execution_count": 380,
   "outputs": [
    {
     "data": {
      "text/plain": "array([ True, False,  True, False,  True, False,  True, False,  True,\n        True, False])"
     },
     "execution_count": 380,
     "metadata": {},
     "output_type": "execute_result"
    }
   ],
   "source": [
    "np.diff(X) != 0"
   ],
   "metadata": {
    "collapsed": false,
    "pycharm": {
     "name": "#%%\n"
    }
   }
  },
  {
   "cell_type": "code",
   "execution_count": 381,
   "outputs": [
    {
     "data": {
      "text/plain": "array([ True,  True, False,  True, False,  True, False,  True, False,\n        True,  True, False])"
     },
     "execution_count": 381,
     "metadata": {},
     "output_type": "execute_result"
    }
   ],
   "source": [
    "np.insert(np.diff(X) != 0,[0],[True])"
   ],
   "metadata": {
    "collapsed": false,
    "pycharm": {
     "name": "#%%\n"
    }
   }
  },
  {
   "cell_type": "code",
   "execution_count": 384,
   "outputs": [
    {
     "data": {
      "text/plain": "array([ 0,  1,  3,  5,  7,  9, 10])"
     },
     "execution_count": 384,
     "metadata": {},
     "output_type": "execute_result"
    }
   ],
   "source": [
    "np.nonzero(np.insert(np.diff(X) != 0,[0],[True]))[0]"
   ],
   "metadata": {
    "collapsed": false,
    "pycharm": {
     "name": "#%%\n"
    }
   }
  },
  {
   "cell_type": "code",
   "execution_count": null,
   "outputs": [],
   "source": [],
   "metadata": {
    "collapsed": false,
    "pycharm": {
     "name": "#%%\n"
    }
   }
  }
 ]
}
